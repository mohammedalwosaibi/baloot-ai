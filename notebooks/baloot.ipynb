{
 "cells": [
  {
   "cell_type": "code",
   "execution_count": 71,
   "id": "c358897c-a6e2-4ed2-9621-e080ca471ad2",
   "metadata": {},
   "outputs": [],
   "source": [
    "import numpy as np"
   ]
  },
  {
   "cell_type": "code",
   "execution_count": 121,
   "id": "116f9497-7757-4d31-b5cf-bc0cbc9cf678",
   "metadata": {},
   "outputs": [],
   "source": [
    "SUN_RANK = [7, 8, 9, 11, 12, 13, 10, 1]"
   ]
  },
  {
   "cell_type": "code",
   "execution_count": 113,
   "id": "6a5ebab4-405e-4b66-bb42-eb5d1e59b578",
   "metadata": {},
   "outputs": [
    {
     "data": {
      "text/plain": [
       "array([[50, 26, 40, 33, 14, 20, 51, 46],\n",
       "       [23,  1, 10, 27, 11, 24, 22, 39],\n",
       "       [ 7,  8, 47,  9, 37, 48, 38, 34],\n",
       "       [52, 36, 13, 21, 25, 49, 35, 12]], dtype=uint8)"
      ]
     },
     "execution_count": 113,
     "metadata": {},
     "output_type": "execute_result"
    }
   ],
   "source": [
    "np.random.seed(42)\n",
    "\n",
    "# SUIT ORDER: HEARTS, SPADES, DIAMONDS, CLUBS\n",
    "\n",
    "player_cards = np.array([rank + suit * 13 for suit in (0, 1, 2, 3) for rank in (1, 7, 8, 9, 10, 11, 12, 13)], dtype='uint8')\n",
    "np.random.shuffle(player_cards)\n",
    "player_cards = player_cards.reshape(4, 8)\n",
    "\n",
    "player_cards"
   ]
  },
  {
   "cell_type": "code",
   "execution_count": 125,
   "id": "eb496542-20cb-446f-8f12-43a96d470380",
   "metadata": {},
   "outputs": [],
   "source": [
    "def get_suit(card):\n",
    "    return (card - 1) // 13\n",
    "\n",
    "def get_rank(card):\n",
    "    return (card - 1) % 13 + 1\n",
    "\n",
    "def has_suit(cards, suit):\n",
    "    for card in cards:\n",
    "        if get_suit(card) == suit:\n",
    "            return True\n",
    "    return False\n",
    "\n",
    "def get_trick_winner(trick):\n",
    "    trick_suit = get_suit(trick[0])\n",
    "    \n",
    "    winner = 0\n",
    "    max_rank_idx = SUN_RANK.index(get_rank(trick[0]))\n",
    "    for i, card in enumerate(trick):\n",
    "        if get_suit(card) == trick_suit and SUN_RANK.index(get_rank(trick[i])) > max_rank_idx:\n",
    "            max_rank_idx = SUN_RANK.index(get_rank(trick[i]))\n",
    "            winner = i\n",
    "\n",
    "    return winner"
   ]
  },
  {
   "cell_type": "code",
   "execution_count": 159,
   "id": "a1e236c5-3586-4ca0-b749-688491413675",
   "metadata": {},
   "outputs": [],
   "source": [
    "class State:\n",
    "    def __init__(self, played_cards, current_cards, current_player, num_of_played_cards, trick_starter, parent):\n",
    "        self.state_score = 0\n",
    "        self.state_visits = 0\n",
    "        self.played_cards = played_cards # 1D array of cards played in order\n",
    "        self.current_cards = current_cards # 2D array of the remaining cards in each player's hand\n",
    "        self.current_player = current_player\n",
    "        self.num_of_played_cards = num_of_played_cards\n",
    "        self.trick_starter = trick_starter\n",
    "        self.child_states = {\n",
    "            # action: new_state\n",
    "        }\n",
    "        self.parent = parent\n",
    "\n",
    "    def expand(self):\n",
    "        if self.num_of_played_cards % 4 == 0:\n",
    "            # first card in the trick\n",
    "            for i, card in enumerate(self.current_cards[self.current_player]):\n",
    "                if card == 0:\n",
    "                    continue\n",
    "                    \n",
    "                updated_current_cards = self.current_cards.copy()\n",
    "                updated_current_cards[self.current_player][i] = 0\n",
    "\n",
    "                updated_played_cards = self.played_cards.copy()\n",
    "                updated_played_cards[self.num_of_played_cards] = card\n",
    "\n",
    "                self.child_states[card] = State(updated_played_cards, updated_current_cards, self.current_player + 1 % 4,\n",
    "                                                self.num_of_played_cards + 1, self.trick_starter, self)\n",
    "\n",
    "        else:\n",
    "            trick_first_card = self.played_cards[(self.num_of_played_cards // 4) * 4]\n",
    "            trick_suit = get_suit(trick_first_card)\n",
    "\n",
    "            player_has_suit = has_suit(self.current_cards[self.current_player], trick_suit)\n",
    "            for i, card in enumerate(self.current_cards[self.current_player]):\n",
    "                if player_has_suit and trick_suit == get_suit(card) or not player_has_suit:\n",
    "                    if card == 0:\n",
    "                        continue\n",
    "                        \n",
    "                    updated_current_cards = self.current_cards.copy()\n",
    "                    updated_current_cards[self.current_player][i] = 0\n",
    "    \n",
    "                    updated_played_cards = self.played_cards.copy()\n",
    "                    updated_played_cards[self.num_of_played_cards] = card\n",
    "\n",
    "                    if self.num_of_played_cards % 4 == 3: # last card in the trick\n",
    "                        updated_trick_starter = get_trick_winner(updated_played_cards[self.num_of_played_cards - 3: self.num_of_played_cards + 1]) + self.trick_starter % 4\n",
    "                    \n",
    "                        self.child_states[card] = State(updated_played_cards, updated_current_cards, updated_trick_starter,\n",
    "                                                    self.num_of_played_cards + 1, updated_trick_starter, self)\n",
    "                    else:\n",
    "                        self.child_states[card] = State(updated_played_cards, updated_current_cards, self.current_player + 1 % 4,\n",
    "                                                self.num_of_played_cards + 1, self.trick_starter, self)"
   ]
  },
  {
   "cell_type": "code",
   "execution_count": 209,
   "id": "a631e4bc-8570-42e1-a125-e5e2b8f6ca05",
   "metadata": {},
   "outputs": [],
   "source": [
    "initial_state = State(played_cards=np.zeros(32, dtype='uint8'), current_cards=player_cards.copy(), current_player=3, num_of_played_cards=3,\n",
    "                     trick_starter=0, parent=None)"
   ]
  },
  {
   "cell_type": "code",
   "execution_count": 213,
   "id": "90291010-c5d5-490b-a8a2-81bb7b1d8730",
   "metadata": {},
   "outputs": [
    {
     "data": {
      "text/plain": [
       "{52: <__main__.State at 0x1273f6240>,\n",
       " 36: <__main__.State at 0x1273f7f80>,\n",
       " 13: <__main__.State at 0x1273f4aa0>,\n",
       " 21: <__main__.State at 0x1273f6150>,\n",
       " 25: <__main__.State at 0x1273f69f0>,\n",
       " 49: <__main__.State at 0x1273f4260>,\n",
       " 35: <__main__.State at 0x1273f4a40>,\n",
       " 12: <__main__.State at 0x1273f6900>}"
      ]
     },
     "execution_count": 213,
     "metadata": {},
     "output_type": "execute_result"
    }
   ],
   "source": [
    "initial_state.expand()\n",
    "initial_state.child_states"
   ]
  },
  {
   "cell_type": "code",
   "execution_count": null,
   "id": "567e4283-c2dc-460a-8c97-5fdc2ae5194e",
   "metadata": {},
   "outputs": [],
   "source": []
  }
 ],
 "metadata": {
  "kernelspec": {
   "display_name": "Python [conda env:base] *",
   "language": "python",
   "name": "conda-base-py"
  },
  "language_info": {
   "codemirror_mode": {
    "name": "ipython",
    "version": 3
   },
   "file_extension": ".py",
   "mimetype": "text/x-python",
   "name": "python",
   "nbconvert_exporter": "python",
   "pygments_lexer": "ipython3",
   "version": "3.12.7"
  }
 },
 "nbformat": 4,
 "nbformat_minor": 5
}
