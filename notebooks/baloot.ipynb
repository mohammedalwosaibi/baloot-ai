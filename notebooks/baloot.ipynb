{
 "cells": [
  {
   "cell_type": "code",
   "execution_count": 9,
   "id": "c358897c-a6e2-4ed2-9621-e080ca471ad2",
   "metadata": {},
   "outputs": [],
   "source": [
    "import numpy as np"
   ]
  },
  {
   "cell_type": "code",
   "execution_count": 69,
   "id": "6a5ebab4-405e-4b66-bb42-eb5d1e59b578",
   "metadata": {},
   "outputs": [
    {
     "data": {
      "text/plain": [
       "array([[50, 26, 40, 33, 14, 20, 51, 46],\n",
       "       [23,  1, 10, 27, 11, 24, 22, 39],\n",
       "       [ 7,  8, 47,  9, 37, 48, 38, 34],\n",
       "       [52, 36, 13, 21, 25, 49, 35, 12]], dtype=uint8)"
      ]
     },
     "execution_count": 69,
     "metadata": {},
     "output_type": "execute_result"
    }
   ],
   "source": [
    "np.random.seed(42)\n",
    "\n",
    "# SUIT ORDER: HEARTS, SPADES, DIAMONDS, CLUBS\n",
    "\n",
    "player_cards = np.array([card + suit * 13 for suit in (0, 1, 2, 3) for card in (1, 7, 8, 9, 10, 11, 12, 13)], dtype='uint8')\n",
    "np.random.shuffle(player_cards)\n",
    "player_cards = player_cards.reshape(4, 8)\n",
    "\n",
    "player_cards"
   ]
  },
  {
   "cell_type": "code",
   "execution_count": 7,
   "id": "a1e236c5-3586-4ca0-b749-688491413675",
   "metadata": {},
   "outputs": [],
   "source": [
    "class State:\n",
    "    def __init__(self, parent=None):\n",
    "        self.state_score = 0\n",
    "        self.state_visits = 0\n",
    "        \n",
    "        self.child_states = {\n",
    "            # action: new_state\n",
    "        }\n",
    "        self.parent = parent"
   ]
  },
  {
   "cell_type": "code",
   "execution_count": null,
   "id": "a631e4bc-8570-42e1-a125-e5e2b8f6ca05",
   "metadata": {},
   "outputs": [],
   "source": []
  }
 ],
 "metadata": {
  "kernelspec": {
   "display_name": "Python [conda env:base] *",
   "language": "python",
   "name": "conda-base-py"
  },
  "language_info": {
   "codemirror_mode": {
    "name": "ipython",
    "version": 3
   },
   "file_extension": ".py",
   "mimetype": "text/x-python",
   "name": "python",
   "nbconvert_exporter": "python",
   "pygments_lexer": "ipython3",
   "version": "3.12.7"
  }
 },
 "nbformat": 4,
 "nbformat_minor": 5
}
